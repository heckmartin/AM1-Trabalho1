{
  "nbformat": 4,
  "nbformat_minor": 0,
  "metadata": {
    "colab": {
      "name": "2020-ENPE-AM-T1",
      "provenance": [],
      "collapsed_sections": [],
      "toc_visible": true,
      "include_colab_link": true
    },
    "kernelspec": {
      "name": "python3",
      "display_name": "Python 3"
    }
  },
  "cells": [
    {
      "cell_type": "markdown",
      "metadata": {
        "id": "view-in-github",
        "colab_type": "text"
      },
      "source": [
        "<a href=\"https://colab.research.google.com/github/heckmartin/AM1-Trabalho1/blob/main/2020_ENPE_AM_T1.ipynb\" target=\"_parent\"><img src=\"https://colab.research.google.com/assets/colab-badge.svg\" alt=\"Open In Colab\"/></a>"
      ]
    },
    {
      "cell_type": "markdown",
      "metadata": {
        "id": "Udb9GytBCDLU"
      },
      "source": [
        "# Trabalho 1"
      ]
    },
    {
      "cell_type": "markdown",
      "metadata": {
        "id": "M3oOR6hdGTcK"
      },
      "source": [
        "Alunos/RA:\n",
        "- João Gabriel Melo Barbirato (11416009)\n",
        "- Karina Mayumi Johansson (758617)\n",
        "- Leonardo Donderi Rodrigues (754756)\n",
        "- Martin Heckmann (758986)\n",
        "- Nathan Celestino de Oliveira (758601)"
      ]
    },
    {
      "cell_type": "markdown",
      "metadata": {
        "id": "ETwVoNT5GMIb"
      },
      "source": [
        "## Base de dados"
      ]
    },
    {
      "cell_type": "markdown",
      "metadata": {
        "id": "Qq2PW_AFGHt6"
      },
      "source": [
        "The data were obtained in a survey of students math and portuguese language courses in secondary school. It contains a lot of interesting social, gender and study information about students. You can use it for some EDA or try to predict students final grade.\n",
        "Content:\n",
        "\n",
        "Attributes for both student-mat.csv (Math course) and student-por.csv (Portuguese language course) datasets:\n",
        "\n",
        "    school - student's school (binary: 'GP' - Gabriel Pereira or 'MS' - Mousinho da Silveira)\n",
        "    sex - student's sex (binary: 'F' - female or 'M' - male)\n",
        "    age - student's age (numeric: from 15 to 22)\n",
        "    address - student's home address type (binary: 'U' - urban or 'R' - rural)\n",
        "    famsize - family size (binary: 'LE3' - less or equal to 3 or 'GT3' - greater than 3)\n",
        "    Pstatus - parent's cohabitation status (binary: 'T' - living together or 'A' - apart)\n",
        "    Medu - mother's education (numeric: 0 - none, 1 - primary education (4th grade), 2 – 5th to 9th grade, 3 – secondary education or 4 – higher education)\n",
        "    Fedu - father's education (numeric: 0 - none, 1 - primary education (4th grade), 2 – 5th to 9th grade, 3 – secondary education or 4 – higher education)\n",
        "    Mjob - mother's job (nominal: 'teacher', 'health' care related, civil 'services' (e.g. administrative or police), 'at_home' or 'other')\n",
        "    Fjob - father's job (nominal: 'teacher', 'health' care related, civil 'services' (e.g. administrative or police), 'at_home' or 'other')\n",
        "    reason - reason to choose this school (nominal: close to 'home', school 'reputation', 'course' preference or 'other')\n",
        "    guardian - student's guardian (nominal: 'mother', 'father' or 'other')\n",
        "    traveltime - home to school travel time (numeric: 1 - 1 hour)\n",
        "    studytime - weekly study time (numeric: 1 - 10 hours)\n",
        "    failures - number of past class failures (numeric: n if 1<=n<3, else 4)\n",
        "    schoolsup - extra educational support (binary: yes or no)\n",
        "    famsup - family educational support (binary: yes or no)\n",
        "    paid - extra paid classes within the course subject (Math or Portuguese) (binary: yes or no)\n",
        "    activities - extra-curricular activities (binary: yes or no)\n",
        "    nursery - attended nursery school (binary: yes or no)\n",
        "    higher - wants to take higher education (binary: yes or no)\n",
        "    internet - Internet access at home (binary: yes or no)\n",
        "    romantic - with a romantic relationship (binary: yes or no)\n",
        "    famrel - quality of family relationships (numeric: from 1 - very bad to 5 - excellent)\n",
        "    freetime - free time after school (numeric: from 1 - very low to 5 - very high)\n",
        "    goout - going out with friends (numeric: from 1 - very low to 5 - very high)\n",
        "    Dalc - workday alcohol consumption (numeric: from 1 - very low to 5 - very high)\n",
        "    Walc - weekend alcohol consumption (numeric: from 1 - very low to 5 - very high)\n",
        "    health - current health status (numeric: from 1 - very bad to 5 - very good)\n",
        "    absences - number of school absences (numeric: from 0 to 93)\n",
        "\n",
        "These grades are related with the course subject, Math or Portuguese:\n",
        "\n",
        "    G1 - first period grade (numeric: from 0 to 20)\n",
        "    G2 - second period grade (numeric: from 0 to 20)\n",
        "    G3 - final grade (numeric: from 0 to 20, output target)\n",
        "\n",
        "Additional note: there are several (382) students that belong to both datasets .\n",
        "These students can be identified by searching for identical attributes\n",
        "that characterize each student, as shown in the annexed R file.\n",
        "Source Information\n",
        "\n",
        "P. Cortez and A. Silva. Using Data Mining to Predict Secondary School Student Performance. In A. Brito and J. Teixeira Eds., Proceedings of 5th FUture BUsiness TEChnology Conference (FUBUTEC 2008) pp. 5-12, Porto, Portugal, April, 2008, EUROSIS, ISBN 978-9077381-39-7.\n",
        "\n",
        "Fabio Pagnotta, Hossain Mohammad Amran.\n",
        "Email:fabio.pagnotta@studenti.unicam.it, mohammadamra.hossain '@' studenti.unicam.it\n",
        "University Of Camerino\n",
        "\n",
        "https://www.kaggle.com/uciml/student-alcohol-consumption?select=student-por.csv"
      ]
    },
    {
      "cell_type": "code",
      "metadata": {
        "id": "t2QbPUd6FAmr",
        "colab": {
          "base_uri": "https://localhost:8080/"
        },
        "outputId": "e64e5145-7834-49de-e4c0-fc110d630fdb"
      },
      "source": [
        "! pip install -U imbalanced-learn\n",
        "import pandas as pd\n",
        "import matplotlib.pyplot as plt\n",
        "import seaborn as sn\n",
        "import numpy as np\n",
        "from sklearn.preprocessing import LabelEncoder\n",
        "from sklearn.model_selection import train_test_split\n",
        "from sklearn.metrics import accuracy_score, precision_score, recall_score, classification_report, plot_confusion_matrix\n",
        "from sklearn.tree import DecisionTreeClassifier\n",
        "from sklearn.model_selection import GridSearchCV, StratifiedKFold\n",
        "from imblearn.over_sampling import SMOTE\n",
        "from imblearn.under_sampling import TomekLinks\n",
        "from imblearn.combine import SMOTEENN \n",
        "from collections import Counter\n",
        "from sklearn.naive_bayes import GaussianNB, MultinomialNB, ComplementNB\n",
        "from sklearn.svm import SVC"
      ],
      "execution_count": null,
      "outputs": [
        {
          "output_type": "stream",
          "text": [
            "Requirement already up-to-date: imbalanced-learn in /usr/local/lib/python3.6/dist-packages (0.7.0)\n",
            "Requirement already satisfied, skipping upgrade: scipy>=0.19.1 in /usr/local/lib/python3.6/dist-packages (from imbalanced-learn) (1.4.1)\n",
            "Requirement already satisfied, skipping upgrade: numpy>=1.13.3 in /usr/local/lib/python3.6/dist-packages (from imbalanced-learn) (1.19.4)\n",
            "Requirement already satisfied, skipping upgrade: joblib>=0.11 in /usr/local/lib/python3.6/dist-packages (from imbalanced-learn) (1.0.0)\n",
            "Requirement already satisfied, skipping upgrade: scikit-learn>=0.23 in /usr/local/lib/python3.6/dist-packages (from imbalanced-learn) (0.23.2)\n",
            "Requirement already satisfied, skipping upgrade: threadpoolctl>=2.0.0 in /usr/local/lib/python3.6/dist-packages (from scikit-learn>=0.23->imbalanced-learn) (2.1.0)\n"
          ],
          "name": "stdout"
        }
      ]
    },
    {
      "cell_type": "markdown",
      "metadata": {
        "id": "I-OaSG5-nL51"
      },
      "source": [
        "Importação do dataset, `student-mat.csv` são os alunos matriculados em matemática e `student-por.csv`são os matriculados em português."
      ]
    },
    {
      "cell_type": "code",
      "metadata": {
        "colab": {
          "base_uri": "https://localhost:8080/",
          "height": 226
        },
        "id": "AZuLb5M9FCDc",
        "outputId": "a3f245c4-51c5-43c4-971e-d0237ec90240"
      },
      "source": [
        "student_mat = pd.read_csv('student-mat.csv')\n",
        "student_port = pd.read_csv('student-por.csv')\n",
        "student_port.head()"
      ],
      "execution_count": null,
      "outputs": [
        {
          "output_type": "execute_result",
          "data": {
            "text/html": [
              "<div>\n",
              "<style scoped>\n",
              "    .dataframe tbody tr th:only-of-type {\n",
              "        vertical-align: middle;\n",
              "    }\n",
              "\n",
              "    .dataframe tbody tr th {\n",
              "        vertical-align: top;\n",
              "    }\n",
              "\n",
              "    .dataframe thead th {\n",
              "        text-align: right;\n",
              "    }\n",
              "</style>\n",
              "<table border=\"1\" class=\"dataframe\">\n",
              "  <thead>\n",
              "    <tr style=\"text-align: right;\">\n",
              "      <th></th>\n",
              "      <th>school</th>\n",
              "      <th>sex</th>\n",
              "      <th>age</th>\n",
              "      <th>address</th>\n",
              "      <th>famsize</th>\n",
              "      <th>Pstatus</th>\n",
              "      <th>Medu</th>\n",
              "      <th>Fedu</th>\n",
              "      <th>Mjob</th>\n",
              "      <th>Fjob</th>\n",
              "      <th>reason</th>\n",
              "      <th>guardian</th>\n",
              "      <th>traveltime</th>\n",
              "      <th>studytime</th>\n",
              "      <th>failures</th>\n",
              "      <th>schoolsup</th>\n",
              "      <th>famsup</th>\n",
              "      <th>paid</th>\n",
              "      <th>activities</th>\n",
              "      <th>nursery</th>\n",
              "      <th>higher</th>\n",
              "      <th>internet</th>\n",
              "      <th>romantic</th>\n",
              "      <th>famrel</th>\n",
              "      <th>freetime</th>\n",
              "      <th>goout</th>\n",
              "      <th>Dalc</th>\n",
              "      <th>Walc</th>\n",
              "      <th>health</th>\n",
              "      <th>absences</th>\n",
              "      <th>G1</th>\n",
              "      <th>G2</th>\n",
              "      <th>G3</th>\n",
              "    </tr>\n",
              "  </thead>\n",
              "  <tbody>\n",
              "    <tr>\n",
              "      <th>0</th>\n",
              "      <td>GP</td>\n",
              "      <td>F</td>\n",
              "      <td>18</td>\n",
              "      <td>U</td>\n",
              "      <td>GT3</td>\n",
              "      <td>A</td>\n",
              "      <td>4</td>\n",
              "      <td>4</td>\n",
              "      <td>at_home</td>\n",
              "      <td>teacher</td>\n",
              "      <td>course</td>\n",
              "      <td>mother</td>\n",
              "      <td>2</td>\n",
              "      <td>2</td>\n",
              "      <td>0</td>\n",
              "      <td>yes</td>\n",
              "      <td>no</td>\n",
              "      <td>no</td>\n",
              "      <td>no</td>\n",
              "      <td>yes</td>\n",
              "      <td>yes</td>\n",
              "      <td>no</td>\n",
              "      <td>no</td>\n",
              "      <td>4</td>\n",
              "      <td>3</td>\n",
              "      <td>4</td>\n",
              "      <td>1</td>\n",
              "      <td>1</td>\n",
              "      <td>3</td>\n",
              "      <td>4</td>\n",
              "      <td>0</td>\n",
              "      <td>11</td>\n",
              "      <td>11</td>\n",
              "    </tr>\n",
              "    <tr>\n",
              "      <th>1</th>\n",
              "      <td>GP</td>\n",
              "      <td>F</td>\n",
              "      <td>17</td>\n",
              "      <td>U</td>\n",
              "      <td>GT3</td>\n",
              "      <td>T</td>\n",
              "      <td>1</td>\n",
              "      <td>1</td>\n",
              "      <td>at_home</td>\n",
              "      <td>other</td>\n",
              "      <td>course</td>\n",
              "      <td>father</td>\n",
              "      <td>1</td>\n",
              "      <td>2</td>\n",
              "      <td>0</td>\n",
              "      <td>no</td>\n",
              "      <td>yes</td>\n",
              "      <td>no</td>\n",
              "      <td>no</td>\n",
              "      <td>no</td>\n",
              "      <td>yes</td>\n",
              "      <td>yes</td>\n",
              "      <td>no</td>\n",
              "      <td>5</td>\n",
              "      <td>3</td>\n",
              "      <td>3</td>\n",
              "      <td>1</td>\n",
              "      <td>1</td>\n",
              "      <td>3</td>\n",
              "      <td>2</td>\n",
              "      <td>9</td>\n",
              "      <td>11</td>\n",
              "      <td>11</td>\n",
              "    </tr>\n",
              "    <tr>\n",
              "      <th>2</th>\n",
              "      <td>GP</td>\n",
              "      <td>F</td>\n",
              "      <td>15</td>\n",
              "      <td>U</td>\n",
              "      <td>LE3</td>\n",
              "      <td>T</td>\n",
              "      <td>1</td>\n",
              "      <td>1</td>\n",
              "      <td>at_home</td>\n",
              "      <td>other</td>\n",
              "      <td>other</td>\n",
              "      <td>mother</td>\n",
              "      <td>1</td>\n",
              "      <td>2</td>\n",
              "      <td>0</td>\n",
              "      <td>yes</td>\n",
              "      <td>no</td>\n",
              "      <td>no</td>\n",
              "      <td>no</td>\n",
              "      <td>yes</td>\n",
              "      <td>yes</td>\n",
              "      <td>yes</td>\n",
              "      <td>no</td>\n",
              "      <td>4</td>\n",
              "      <td>3</td>\n",
              "      <td>2</td>\n",
              "      <td>2</td>\n",
              "      <td>3</td>\n",
              "      <td>3</td>\n",
              "      <td>6</td>\n",
              "      <td>12</td>\n",
              "      <td>13</td>\n",
              "      <td>12</td>\n",
              "    </tr>\n",
              "    <tr>\n",
              "      <th>3</th>\n",
              "      <td>GP</td>\n",
              "      <td>F</td>\n",
              "      <td>15</td>\n",
              "      <td>U</td>\n",
              "      <td>GT3</td>\n",
              "      <td>T</td>\n",
              "      <td>4</td>\n",
              "      <td>2</td>\n",
              "      <td>health</td>\n",
              "      <td>services</td>\n",
              "      <td>home</td>\n",
              "      <td>mother</td>\n",
              "      <td>1</td>\n",
              "      <td>3</td>\n",
              "      <td>0</td>\n",
              "      <td>no</td>\n",
              "      <td>yes</td>\n",
              "      <td>no</td>\n",
              "      <td>yes</td>\n",
              "      <td>yes</td>\n",
              "      <td>yes</td>\n",
              "      <td>yes</td>\n",
              "      <td>yes</td>\n",
              "      <td>3</td>\n",
              "      <td>2</td>\n",
              "      <td>2</td>\n",
              "      <td>1</td>\n",
              "      <td>1</td>\n",
              "      <td>5</td>\n",
              "      <td>0</td>\n",
              "      <td>14</td>\n",
              "      <td>14</td>\n",
              "      <td>14</td>\n",
              "    </tr>\n",
              "    <tr>\n",
              "      <th>4</th>\n",
              "      <td>GP</td>\n",
              "      <td>F</td>\n",
              "      <td>16</td>\n",
              "      <td>U</td>\n",
              "      <td>GT3</td>\n",
              "      <td>T</td>\n",
              "      <td>3</td>\n",
              "      <td>3</td>\n",
              "      <td>other</td>\n",
              "      <td>other</td>\n",
              "      <td>home</td>\n",
              "      <td>father</td>\n",
              "      <td>1</td>\n",
              "      <td>2</td>\n",
              "      <td>0</td>\n",
              "      <td>no</td>\n",
              "      <td>yes</td>\n",
              "      <td>no</td>\n",
              "      <td>no</td>\n",
              "      <td>yes</td>\n",
              "      <td>yes</td>\n",
              "      <td>no</td>\n",
              "      <td>no</td>\n",
              "      <td>4</td>\n",
              "      <td>3</td>\n",
              "      <td>2</td>\n",
              "      <td>1</td>\n",
              "      <td>2</td>\n",
              "      <td>5</td>\n",
              "      <td>0</td>\n",
              "      <td>11</td>\n",
              "      <td>13</td>\n",
              "      <td>13</td>\n",
              "    </tr>\n",
              "  </tbody>\n",
              "</table>\n",
              "</div>"
            ],
            "text/plain": [
              "  school sex  age address famsize Pstatus  ...  Walc  health absences  G1  G2  G3\n",
              "0     GP   F   18       U     GT3       A  ...     1       3        4   0  11  11\n",
              "1     GP   F   17       U     GT3       T  ...     1       3        2   9  11  11\n",
              "2     GP   F   15       U     LE3       T  ...     3       3        6  12  13  12\n",
              "3     GP   F   15       U     GT3       T  ...     1       5        0  14  14  14\n",
              "4     GP   F   16       U     GT3       T  ...     2       5        0  11  13  13\n",
              "\n",
              "[5 rows x 33 columns]"
            ]
          },
          "metadata": {
            "tags": []
          },
          "execution_count": 168
        }
      ]
    },
    {
      "cell_type": "markdown",
      "metadata": {
        "id": "B2IcSKhOop4z"
      },
      "source": [
        "Verificamos o número de alunos matriculados em cada disciplina.\r\n",
        "* `student_mat` com 395\r\n",
        "* `student_port`com 649\r\n"
      ]
    },
    {
      "cell_type": "code",
      "metadata": {
        "id": "-_mmnmqiFmeT",
        "colab": {
          "base_uri": "https://localhost:8080/"
        },
        "outputId": "c13c5b84-47eb-4db5-8522-98aca074eab4"
      },
      "source": [
        "student_mat.shape, student_port.shape"
      ],
      "execution_count": null,
      "outputs": [
        {
          "output_type": "execute_result",
          "data": {
            "text/plain": [
              "((395, 33), (649, 33))"
            ]
          },
          "metadata": {
            "tags": []
          },
          "execution_count": 169
        }
      ]
    },
    {
      "cell_type": "markdown",
      "metadata": {
        "id": "CCJCwcyRp0kB"
      },
      "source": [
        "Utilizamos a função merge para verificar se temos alguma coluna de interseccão das duas tabelas com valores únicos, pois para dois estudantes com os mesmos dados, gostaríamos de identificá-los como a mesma pessoa para evitar duplicação de dados.\r\n"
      ]
    },
    {
      "cell_type": "code",
      "metadata": {
        "id": "bVKCyzP9Gw6u",
        "colab": {
          "base_uri": "https://localhost:8080/"
        },
        "outputId": "e81ccad0-547c-4fb3-af47-fa748c864762"
      },
      "source": [
        "pd.merge(student_mat, student_port, how='inner').shape"
      ],
      "execution_count": null,
      "outputs": [
        {
          "output_type": "execute_result",
          "data": {
            "text/plain": [
              "(0, 33)"
            ]
          },
          "metadata": {
            "tags": []
          },
          "execution_count": 170
        }
      ]
    },
    {
      "cell_type": "markdown",
      "metadata": {
        "id": "f4-XQ4XCJTKo"
      },
      "source": [
        "Como não temos uma chave única como uma coluna de ID no dataset, optamos por utilizar apenas os estudantes de português, que estão em maior número e dos 395 matriculados em matemática 382 também estão matriculados em português.\r\n"
      ]
    },
    {
      "cell_type": "code",
      "metadata": {
        "id": "gGezt57oJgc5",
        "colab": {
          "base_uri": "https://localhost:8080/",
          "height": 226
        },
        "outputId": "33f56afe-efe1-40fa-c1df-5048cb685406"
      },
      "source": [
        "student_port.head()"
      ],
      "execution_count": null,
      "outputs": [
        {
          "output_type": "execute_result",
          "data": {
            "text/html": [
              "<div>\n",
              "<style scoped>\n",
              "    .dataframe tbody tr th:only-of-type {\n",
              "        vertical-align: middle;\n",
              "    }\n",
              "\n",
              "    .dataframe tbody tr th {\n",
              "        vertical-align: top;\n",
              "    }\n",
              "\n",
              "    .dataframe thead th {\n",
              "        text-align: right;\n",
              "    }\n",
              "</style>\n",
              "<table border=\"1\" class=\"dataframe\">\n",
              "  <thead>\n",
              "    <tr style=\"text-align: right;\">\n",
              "      <th></th>\n",
              "      <th>school</th>\n",
              "      <th>sex</th>\n",
              "      <th>age</th>\n",
              "      <th>address</th>\n",
              "      <th>famsize</th>\n",
              "      <th>Pstatus</th>\n",
              "      <th>Medu</th>\n",
              "      <th>Fedu</th>\n",
              "      <th>Mjob</th>\n",
              "      <th>Fjob</th>\n",
              "      <th>reason</th>\n",
              "      <th>guardian</th>\n",
              "      <th>traveltime</th>\n",
              "      <th>studytime</th>\n",
              "      <th>failures</th>\n",
              "      <th>schoolsup</th>\n",
              "      <th>famsup</th>\n",
              "      <th>paid</th>\n",
              "      <th>activities</th>\n",
              "      <th>nursery</th>\n",
              "      <th>higher</th>\n",
              "      <th>internet</th>\n",
              "      <th>romantic</th>\n",
              "      <th>famrel</th>\n",
              "      <th>freetime</th>\n",
              "      <th>goout</th>\n",
              "      <th>Dalc</th>\n",
              "      <th>Walc</th>\n",
              "      <th>health</th>\n",
              "      <th>absences</th>\n",
              "      <th>G1</th>\n",
              "      <th>G2</th>\n",
              "      <th>G3</th>\n",
              "    </tr>\n",
              "  </thead>\n",
              "  <tbody>\n",
              "    <tr>\n",
              "      <th>0</th>\n",
              "      <td>GP</td>\n",
              "      <td>F</td>\n",
              "      <td>18</td>\n",
              "      <td>U</td>\n",
              "      <td>GT3</td>\n",
              "      <td>A</td>\n",
              "      <td>4</td>\n",
              "      <td>4</td>\n",
              "      <td>at_home</td>\n",
              "      <td>teacher</td>\n",
              "      <td>course</td>\n",
              "      <td>mother</td>\n",
              "      <td>2</td>\n",
              "      <td>2</td>\n",
              "      <td>0</td>\n",
              "      <td>yes</td>\n",
              "      <td>no</td>\n",
              "      <td>no</td>\n",
              "      <td>no</td>\n",
              "      <td>yes</td>\n",
              "      <td>yes</td>\n",
              "      <td>no</td>\n",
              "      <td>no</td>\n",
              "      <td>4</td>\n",
              "      <td>3</td>\n",
              "      <td>4</td>\n",
              "      <td>1</td>\n",
              "      <td>1</td>\n",
              "      <td>3</td>\n",
              "      <td>4</td>\n",
              "      <td>0</td>\n",
              "      <td>11</td>\n",
              "      <td>11</td>\n",
              "    </tr>\n",
              "    <tr>\n",
              "      <th>1</th>\n",
              "      <td>GP</td>\n",
              "      <td>F</td>\n",
              "      <td>17</td>\n",
              "      <td>U</td>\n",
              "      <td>GT3</td>\n",
              "      <td>T</td>\n",
              "      <td>1</td>\n",
              "      <td>1</td>\n",
              "      <td>at_home</td>\n",
              "      <td>other</td>\n",
              "      <td>course</td>\n",
              "      <td>father</td>\n",
              "      <td>1</td>\n",
              "      <td>2</td>\n",
              "      <td>0</td>\n",
              "      <td>no</td>\n",
              "      <td>yes</td>\n",
              "      <td>no</td>\n",
              "      <td>no</td>\n",
              "      <td>no</td>\n",
              "      <td>yes</td>\n",
              "      <td>yes</td>\n",
              "      <td>no</td>\n",
              "      <td>5</td>\n",
              "      <td>3</td>\n",
              "      <td>3</td>\n",
              "      <td>1</td>\n",
              "      <td>1</td>\n",
              "      <td>3</td>\n",
              "      <td>2</td>\n",
              "      <td>9</td>\n",
              "      <td>11</td>\n",
              "      <td>11</td>\n",
              "    </tr>\n",
              "    <tr>\n",
              "      <th>2</th>\n",
              "      <td>GP</td>\n",
              "      <td>F</td>\n",
              "      <td>15</td>\n",
              "      <td>U</td>\n",
              "      <td>LE3</td>\n",
              "      <td>T</td>\n",
              "      <td>1</td>\n",
              "      <td>1</td>\n",
              "      <td>at_home</td>\n",
              "      <td>other</td>\n",
              "      <td>other</td>\n",
              "      <td>mother</td>\n",
              "      <td>1</td>\n",
              "      <td>2</td>\n",
              "      <td>0</td>\n",
              "      <td>yes</td>\n",
              "      <td>no</td>\n",
              "      <td>no</td>\n",
              "      <td>no</td>\n",
              "      <td>yes</td>\n",
              "      <td>yes</td>\n",
              "      <td>yes</td>\n",
              "      <td>no</td>\n",
              "      <td>4</td>\n",
              "      <td>3</td>\n",
              "      <td>2</td>\n",
              "      <td>2</td>\n",
              "      <td>3</td>\n",
              "      <td>3</td>\n",
              "      <td>6</td>\n",
              "      <td>12</td>\n",
              "      <td>13</td>\n",
              "      <td>12</td>\n",
              "    </tr>\n",
              "    <tr>\n",
              "      <th>3</th>\n",
              "      <td>GP</td>\n",
              "      <td>F</td>\n",
              "      <td>15</td>\n",
              "      <td>U</td>\n",
              "      <td>GT3</td>\n",
              "      <td>T</td>\n",
              "      <td>4</td>\n",
              "      <td>2</td>\n",
              "      <td>health</td>\n",
              "      <td>services</td>\n",
              "      <td>home</td>\n",
              "      <td>mother</td>\n",
              "      <td>1</td>\n",
              "      <td>3</td>\n",
              "      <td>0</td>\n",
              "      <td>no</td>\n",
              "      <td>yes</td>\n",
              "      <td>no</td>\n",
              "      <td>yes</td>\n",
              "      <td>yes</td>\n",
              "      <td>yes</td>\n",
              "      <td>yes</td>\n",
              "      <td>yes</td>\n",
              "      <td>3</td>\n",
              "      <td>2</td>\n",
              "      <td>2</td>\n",
              "      <td>1</td>\n",
              "      <td>1</td>\n",
              "      <td>5</td>\n",
              "      <td>0</td>\n",
              "      <td>14</td>\n",
              "      <td>14</td>\n",
              "      <td>14</td>\n",
              "    </tr>\n",
              "    <tr>\n",
              "      <th>4</th>\n",
              "      <td>GP</td>\n",
              "      <td>F</td>\n",
              "      <td>16</td>\n",
              "      <td>U</td>\n",
              "      <td>GT3</td>\n",
              "      <td>T</td>\n",
              "      <td>3</td>\n",
              "      <td>3</td>\n",
              "      <td>other</td>\n",
              "      <td>other</td>\n",
              "      <td>home</td>\n",
              "      <td>father</td>\n",
              "      <td>1</td>\n",
              "      <td>2</td>\n",
              "      <td>0</td>\n",
              "      <td>no</td>\n",
              "      <td>yes</td>\n",
              "      <td>no</td>\n",
              "      <td>no</td>\n",
              "      <td>yes</td>\n",
              "      <td>yes</td>\n",
              "      <td>no</td>\n",
              "      <td>no</td>\n",
              "      <td>4</td>\n",
              "      <td>3</td>\n",
              "      <td>2</td>\n",
              "      <td>1</td>\n",
              "      <td>2</td>\n",
              "      <td>5</td>\n",
              "      <td>0</td>\n",
              "      <td>11</td>\n",
              "      <td>13</td>\n",
              "      <td>13</td>\n",
              "    </tr>\n",
              "  </tbody>\n",
              "</table>\n",
              "</div>"
            ],
            "text/plain": [
              "  school sex  age address famsize Pstatus  ...  Walc  health absences  G1  G2  G3\n",
              "0     GP   F   18       U     GT3       A  ...     1       3        4   0  11  11\n",
              "1     GP   F   17       U     GT3       T  ...     1       3        2   9  11  11\n",
              "2     GP   F   15       U     LE3       T  ...     3       3        6  12  13  12\n",
              "3     GP   F   15       U     GT3       T  ...     1       5        0  14  14  14\n",
              "4     GP   F   16       U     GT3       T  ...     2       5        0  11  13  13\n",
              "\n",
              "[5 rows x 33 columns]"
            ]
          },
          "metadata": {
            "tags": []
          },
          "execution_count": 171
        }
      ]
    },
    {
      "cell_type": "markdown",
      "metadata": {
        "id": "aw0-HZ02EX76"
      },
      "source": [
        "## Pré-processamento"
      ]
    },
    {
      "cell_type": "markdown",
      "metadata": {
        "id": "4DhaK2GcrqRJ"
      },
      "source": [
        "Com `.info()`, esperávamos encontrar alguma coluna nula, que já poderia ser podada. Porém, aparentemente todas são `non-null`\r\n"
      ]
    },
    {
      "cell_type": "code",
      "metadata": {
        "id": "nRMvkcokFvN5",
        "colab": {
          "base_uri": "https://localhost:8080/"
        },
        "outputId": "1f557099-b014-4a21-9beb-872c6d93425f"
      },
      "source": [
        "student_port.info()"
      ],
      "execution_count": null,
      "outputs": [
        {
          "output_type": "stream",
          "text": [
            "<class 'pandas.core.frame.DataFrame'>\n",
            "RangeIndex: 649 entries, 0 to 648\n",
            "Data columns (total 33 columns):\n",
            " #   Column      Non-Null Count  Dtype \n",
            "---  ------      --------------  ----- \n",
            " 0   school      649 non-null    object\n",
            " 1   sex         649 non-null    object\n",
            " 2   age         649 non-null    int64 \n",
            " 3   address     649 non-null    object\n",
            " 4   famsize     649 non-null    object\n",
            " 5   Pstatus     649 non-null    object\n",
            " 6   Medu        649 non-null    int64 \n",
            " 7   Fedu        649 non-null    int64 \n",
            " 8   Mjob        649 non-null    object\n",
            " 9   Fjob        649 non-null    object\n",
            " 10  reason      649 non-null    object\n",
            " 11  guardian    649 non-null    object\n",
            " 12  traveltime  649 non-null    int64 \n",
            " 13  studytime   649 non-null    int64 \n",
            " 14  failures    649 non-null    int64 \n",
            " 15  schoolsup   649 non-null    object\n",
            " 16  famsup      649 non-null    object\n",
            " 17  paid        649 non-null    object\n",
            " 18  activities  649 non-null    object\n",
            " 19  nursery     649 non-null    object\n",
            " 20  higher      649 non-null    object\n",
            " 21  internet    649 non-null    object\n",
            " 22  romantic    649 non-null    object\n",
            " 23  famrel      649 non-null    int64 \n",
            " 24  freetime    649 non-null    int64 \n",
            " 25  goout       649 non-null    int64 \n",
            " 26  Dalc        649 non-null    int64 \n",
            " 27  Walc        649 non-null    int64 \n",
            " 28  health      649 non-null    int64 \n",
            " 29  absences    649 non-null    int64 \n",
            " 30  G1          649 non-null    int64 \n",
            " 31  G2          649 non-null    int64 \n",
            " 32  G3          649 non-null    int64 \n",
            "dtypes: int64(16), object(17)\n",
            "memory usage: 167.4+ KB\n"
          ],
          "name": "stdout"
        }
      ]
    },
    {
      "cell_type": "markdown",
      "metadata": {
        "id": "6Op6KoO0sdhQ"
      },
      "source": [
        "Verificando se existem linhas idênticas, pois em caso positivo, teriamos que retirá-las para não haver duplicação na amostragem."
      ]
    },
    {
      "cell_type": "code",
      "metadata": {
        "id": "bfM2otxhKPF8",
        "colab": {
          "base_uri": "https://localhost:8080/"
        },
        "outputId": "43b749ad-200b-4324-8e81-bb9479fa8a28"
      },
      "source": [
        "any(student_port.duplicated())"
      ],
      "execution_count": null,
      "outputs": [
        {
          "output_type": "execute_result",
          "data": {
            "text/plain": [
              "False"
            ]
          },
          "metadata": {
            "tags": []
          },
          "execution_count": 173
        }
      ]
    },
    {
      "cell_type": "markdown",
      "metadata": {
        "id": "IjxU_t-JLK4Q"
      },
      "source": [
        "A coluna alvo pode ser `Dalc` ou `Walc`. Queremos posteriormente verificar se tem alguma correlação entre essas duas."
      ]
    },
    {
      "cell_type": "code",
      "metadata": {
        "id": "FxDTDmJhKkrY",
        "colab": {
          "base_uri": "https://localhost:8080/",
          "height": 595
        },
        "outputId": "bb78e181-cbbd-418d-97e5-aeea66806d0b"
      },
      "source": [
        "corr = student_port.corr(method='pearson').round(3)\n",
        "plt.figure(figsize=[20,10])\n",
        "sn.heatmap(corr, annot=True, linewidths=1)\n",
        "plt.show()"
      ],
      "execution_count": null,
      "outputs": [
        {
          "output_type": "display_data",
          "data": {
            "image/png": "[encoded data removed]",
            "text/plain": [
              "<Figure size 1440x720 with 2 Axes>"
            ]
          },
          "metadata": {
            "tags": [],
            "needs_background": "light"
          }
        }
      ]
    },
    {
      "cell_type": "markdown",
      "metadata": {
        "id": "Y2sJsQDKOyYV"
      },
      "source": [
        "- O diagrama mostrou que existe forte correlação entre `Dalc` e `Walc`, entre `G1`,`G2`,`G3` e `failures`, e `Medu` e `Fedu`.\n",
        "- Portanto, vamos fazer a média entre `G1` (first period grade), `G2` (second period grade), `G3` (final grade), uma vez que representam as notas dos estudantes;\n",
        "- E também calcular a média entre Medu e Fedu;\n",
        "- Optamos por utilizar o `Dalc` para atributo alvo. Uma vez que se correlaciona com `Walc`, podemos desconsiderar este último."
      ]
    },
    {
      "cell_type": "markdown",
      "metadata": {
        "id": "yPUrrzOZuyKT"
      },
      "source": [
        "Criamos a coluna `average` e atribuimos a ela a média entre as notas (`G1`,`G2`, `G3`)"
      ]
    },
    {
      "cell_type": "code",
      "metadata": {
        "id": "LH5BuW48MOMf",
        "colab": {
          "base_uri": "https://localhost:8080/",
          "height": 206
        },
        "outputId": "db9f056c-f15e-4493-ceab-3593a852aa7c"
      },
      "source": [
        "student_port['average'] = student_port[['G1','G2', 'G3']].mean(axis=1)\n",
        "student_port[['G1','G2','G3','average']].head()"
      ],
      "execution_count": null,
      "outputs": [
        {
          "output_type": "execute_result",
          "data": {
            "text/html": [
              "<div>\n",
              "<style scoped>\n",
              "    .dataframe tbody tr th:only-of-type {\n",
              "        vertical-align: middle;\n",
              "    }\n",
              "\n",
              "    .dataframe tbody tr th {\n",
              "        vertical-align: top;\n",
              "    }\n",
              "\n",
              "    .dataframe thead th {\n",
              "        text-align: right;\n",
              "    }\n",
              "</style>\n",
              "<table border=\"1\" class=\"dataframe\">\n",
              "  <thead>\n",
              "    <tr style=\"text-align: right;\">\n",
              "      <th></th>\n",
              "      <th>G1</th>\n",
              "      <th>G2</th>\n",
              "      <th>G3</th>\n",
              "      <th>average</th>\n",
              "    </tr>\n",
              "  </thead>\n",
              "  <tbody>\n",
              "    <tr>\n",
              "      <th>0</th>\n",
              "      <td>0</td>\n",
              "      <td>11</td>\n",
              "      <td>11</td>\n",
              "      <td>7.333333</td>\n",
              "    </tr>\n",
              "    <tr>\n",
              "      <th>1</th>\n",
              "      <td>9</td>\n",
              "      <td>11</td>\n",
              "      <td>11</td>\n",
              "      <td>10.333333</td>\n",
              "    </tr>\n",
              "    <tr>\n",
              "      <th>2</th>\n",
              "      <td>12</td>\n",
              "      <td>13</td>\n",
              "      <td>12</td>\n",
              "      <td>12.333333</td>\n",
              "    </tr>\n",
              "    <tr>\n",
              "      <th>3</th>\n",
              "      <td>14</td>\n",
              "      <td>14</td>\n",
              "      <td>14</td>\n",
              "      <td>14.000000</td>\n",
              "    </tr>\n",
              "    <tr>\n",
              "      <th>4</th>\n",
              "      <td>11</td>\n",
              "      <td>13</td>\n",
              "      <td>13</td>\n",
              "      <td>12.333333</td>\n",
              "    </tr>\n",
              "  </tbody>\n",
              "</table>\n",
              "</div>"
            ],
            "text/plain": [
              "   G1  G2  G3    average\n",
              "0   0  11  11   7.333333\n",
              "1   9  11  11  10.333333\n",
              "2  12  13  12  12.333333\n",
              "3  14  14  14  14.000000\n",
              "4  11  13  13  12.333333"
            ]
          },
          "metadata": {
            "tags": []
          },
          "execution_count": 175
        }
      ]
    },
    {
      "cell_type": "markdown",
      "metadata": {
        "id": "-IgCvfp-vXhM"
      },
      "source": [
        "Com a média feita, podemos retirar as colunas de notas (`G1`,`G2`, `G3`) e também `failures` que é muito correlata com as notas.\r\n"
      ]
    },
    {
      "cell_type": "code",
      "metadata": {
        "id": "dlgwPB1ZWVzb",
        "colab": {
          "base_uri": "https://localhost:8080/"
        },
        "outputId": "17033b7d-63a5-4f1e-9bd7-64e143631477"
      },
      "source": [
        "student_port.drop(columns=['failures','G1','G2','G3'], inplace=True)\n",
        "student_port.columns"
      ],
      "execution_count": null,
      "outputs": [
        {
          "output_type": "execute_result",
          "data": {
            "text/plain": [
              "Index(['school', 'sex', 'age', 'address', 'famsize', 'Pstatus', 'Medu', 'Fedu',\n",
              "       'Mjob', 'Fjob', 'reason', 'guardian', 'traveltime', 'studytime',\n",
              "       'schoolsup', 'famsup', 'paid', 'activities', 'nursery', 'higher',\n",
              "       'internet', 'romantic', 'famrel', 'freetime', 'goout', 'Dalc', 'Walc',\n",
              "       'health', 'absences', 'average'],\n",
              "      dtype='object')"
            ]
          },
          "metadata": {
            "tags": []
          },
          "execution_count": 176
        }
      ]
    },
    {
      "cell_type": "markdown",
      "metadata": {
        "id": "K8qfYfLs1X0m"
      },
      "source": [
        "Criamos a coluna `Pedu` (Parents Education) e atribuímos a ela a média entre `Fedu` e `Medu`e podamos estas duas colunas\r\n"
      ]
    },
    {
      "cell_type": "code",
      "metadata": {
        "id": "l5HgYg8SXjhh"
      },
      "source": [
        "student_port['Pedu'] = student_port[['Fedu','Medu']].mean(axis=1)\r\n",
        "student_port.drop(columns=['Fedu', 'Medu'], inplace=True)"
      ],
      "execution_count": null,
      "outputs": []
    },
    {
      "cell_type": "code",
      "metadata": {
        "id": "kniEzRn2BULV",
        "colab": {
          "base_uri": "https://localhost:8080/"
        },
        "outputId": "37d17eb3-9c23-4b24-dfc3-889695aafb11"
      },
      "source": [
        "student_port['Dalc'].value_counts()"
      ],
      "execution_count": null,
      "outputs": [
        {
          "output_type": "execute_result",
          "data": {
            "text/plain": [
              "1    451\n",
              "2    121\n",
              "3     43\n",
              "5     17\n",
              "4     17\n",
              "Name: Dalc, dtype: int64"
            ]
          },
          "metadata": {
            "tags": []
          },
          "execution_count": 178
        }
      ]
    },
    {
      "cell_type": "code",
      "metadata": {
        "id": "wikwEP_mB5CM",
        "colab": {
          "base_uri": "https://localhost:8080/"
        },
        "outputId": "32865e61-048f-4d00-b732-271826a58c01"
      },
      "source": [
        "student_port['Walc'].value_counts()"
      ],
      "execution_count": null,
      "outputs": [
        {
          "output_type": "execute_result",
          "data": {
            "text/plain": [
              "1    247\n",
              "2    150\n",
              "3    120\n",
              "4     87\n",
              "5     45\n",
              "Name: Walc, dtype: int64"
            ]
          },
          "metadata": {
            "tags": []
          },
          "execution_count": 179
        }
      ]
    },
    {
      "cell_type": "markdown",
      "metadata": {
        "id": "hqA3oeo315cd"
      },
      "source": [
        "Verificamos a ocorrência dos casos categóricos em `Dalc` e `Walc` e optamos pela coluna alvo `Dalc`. Com isso, podemos podar a coluna `Walc`"
      ]
    },
    {
      "cell_type": "code",
      "metadata": {
        "id": "KXucsrOXX1-q"
      },
      "source": [
        "student_port.drop(columns=['Walc'], inplace=True)"
      ],
      "execution_count": null,
      "outputs": []
    },
    {
      "cell_type": "markdown",
      "metadata": {
        "id": "54i07AjdFVGd"
      },
      "source": [
        "Optamos por transformar os valores da coluna `Dalc` para uma relação binária. Como `Dalc` se trata do consumo de alcool em dias úteis e o dataset nos dá uma categorização de 1 a 5 (sendo 1 pouco consumo e 5 muito), categorizamos para:\r\n",
        "* 0: Não preocupante, sem necessidade de intervenção.\r\n",
        "* 1: Preocupante, necessária intervenção."
      ]
    },
    {
      "cell_type": "code",
      "metadata": {
        "id": "G6WCKz6FIGZA"
      },
      "source": [
        "target = 'Dalc'"
      ],
      "execution_count": null,
      "outputs": []
    },
    {
      "cell_type": "code",
      "metadata": {
        "id": "iXwTwFMZ8ACe",
        "colab": {
          "base_uri": "https://localhost:8080/"
        },
        "outputId": "e33332ae-5214-4fd1-c15d-772e5efa9b4a"
      },
      "source": [
        "student_port[target] = ['Preocupante' if v >= 3 else 'Não preocupante' for v in student_port[target]]\n",
        "student_port[target].value_counts()"
      ],
      "execution_count": null,
      "outputs": [
        {
          "output_type": "execute_result",
          "data": {
            "text/plain": [
              "Não preocupante    572\n",
              "Preocupante         77\n",
              "Name: Dalc, dtype: int64"
            ]
          },
          "metadata": {
            "tags": []
          },
          "execution_count": 182
        }
      ]
    },
    {
      "cell_type": "markdown",
      "metadata": {
        "id": "jWgLAinNNpLN"
      },
      "source": [
        "Transformamos também, atributos categóricos em numéricos. Por exemplo `sex` que tinha valores F ou M, substituimos por 0 ou 1."
      ]
    },
    {
      "cell_type": "code",
      "metadata": {
        "id": "hNvD7qGYeByd",
        "colab": {
          "base_uri": "https://localhost:8080/",
          "height": 226
        },
        "outputId": "5b769f15-b0ea-4cce-a0d3-e464fddc288a"
      },
      "source": [
        "categoric_columns = student_port.select_dtypes(np.object).columns\n",
        "encoders = dict.fromkeys(categoric_columns)\n",
        "for encoder in encoders.keys():\n",
        "    encoders[encoder] = LabelEncoder()\n",
        "    encoders[encoder].fit(student_port[encoder].unique())\n",
        "    student_port[encoder] = encoders[encoder].transform(student_port[encoder])\n",
        "student_port.head()"
      ],
      "execution_count": null,
      "outputs": [
        {
          "output_type": "execute_result",
          "data": {
            "text/html": [
              "<div>\n",
              "<style scoped>\n",
              "    .dataframe tbody tr th:only-of-type {\n",
              "        vertical-align: middle;\n",
              "    }\n",
              "\n",
              "    .dataframe tbody tr th {\n",
              "        vertical-align: top;\n",
              "    }\n",
              "\n",
              "    .dataframe thead th {\n",
              "        text-align: right;\n",
              "    }\n",
              "</style>\n",
              "<table border=\"1\" class=\"dataframe\">\n",
              "  <thead>\n",
              "    <tr style=\"text-align: right;\">\n",
              "      <th></th>\n",
              "      <th>school</th>\n",
              "      <th>sex</th>\n",
              "      <th>age</th>\n",
              "      <th>address</th>\n",
              "      <th>famsize</th>\n",
              "      <th>Pstatus</th>\n",
              "      <th>Mjob</th>\n",
              "      <th>Fjob</th>\n",
              "      <th>reason</th>\n",
              "      <th>guardian</th>\n",
              "      <th>traveltime</th>\n",
              "      <th>studytime</th>\n",
              "      <th>schoolsup</th>\n",
              "      <th>famsup</th>\n",
              "      <th>paid</th>\n",
              "      <th>activities</th>\n",
              "      <th>nursery</th>\n",
              "      <th>higher</th>\n",
              "      <th>internet</th>\n",
              "      <th>romantic</th>\n",
              "      <th>famrel</th>\n",
              "      <th>freetime</th>\n",
              "      <th>goout</th>\n",
              "      <th>Dalc</th>\n",
              "      <th>health</th>\n",
              "      <th>absences</th>\n",
              "      <th>average</th>\n",
              "      <th>Pedu</th>\n",
              "    </tr>\n",
              "  </thead>\n",
              "  <tbody>\n",
              "    <tr>\n",
              "      <th>0</th>\n",
              "      <td>0</td>\n",
              "      <td>0</td>\n",
              "      <td>18</td>\n",
              "      <td>1</td>\n",
              "      <td>0</td>\n",
              "      <td>0</td>\n",
              "      <td>0</td>\n",
              "      <td>4</td>\n",
              "      <td>0</td>\n",
              "      <td>1</td>\n",
              "      <td>2</td>\n",
              "      <td>2</td>\n",
              "      <td>1</td>\n",
              "      <td>0</td>\n",
              "      <td>0</td>\n",
              "      <td>0</td>\n",
              "      <td>1</td>\n",
              "      <td>1</td>\n",
              "      <td>0</td>\n",
              "      <td>0</td>\n",
              "      <td>4</td>\n",
              "      <td>3</td>\n",
              "      <td>4</td>\n",
              "      <td>0</td>\n",
              "      <td>3</td>\n",
              "      <td>4</td>\n",
              "      <td>7.333333</td>\n",
              "      <td>4.0</td>\n",
              "    </tr>\n",
              "    <tr>\n",
              "      <th>1</th>\n",
              "      <td>0</td>\n",
              "      <td>0</td>\n",
              "      <td>17</td>\n",
              "      <td>1</td>\n",
              "      <td>0</td>\n",
              "      <td>1</td>\n",
              "      <td>0</td>\n",
              "      <td>2</td>\n",
              "      <td>0</td>\n",
              "      <td>0</td>\n",
              "      <td>1</td>\n",
              "      <td>2</td>\n",
              "      <td>0</td>\n",
              "      <td>1</td>\n",
              "      <td>0</td>\n",
              "      <td>0</td>\n",
              "      <td>0</td>\n",
              "      <td>1</td>\n",
              "      <td>1</td>\n",
              "      <td>0</td>\n",
              "      <td>5</td>\n",
              "      <td>3</td>\n",
              "      <td>3</td>\n",
              "      <td>0</td>\n",
              "      <td>3</td>\n",
              "      <td>2</td>\n",
              "      <td>10.333333</td>\n",
              "      <td>1.0</td>\n",
              "    </tr>\n",
              "    <tr>\n",
              "      <th>2</th>\n",
              "      <td>0</td>\n",
              "      <td>0</td>\n",
              "      <td>15</td>\n",
              "      <td>1</td>\n",
              "      <td>1</td>\n",
              "      <td>1</td>\n",
              "      <td>0</td>\n",
              "      <td>2</td>\n",
              "      <td>2</td>\n",
              "      <td>1</td>\n",
              "      <td>1</td>\n",
              "      <td>2</td>\n",
              "      <td>1</td>\n",
              "      <td>0</td>\n",
              "      <td>0</td>\n",
              "      <td>0</td>\n",
              "      <td>1</td>\n",
              "      <td>1</td>\n",
              "      <td>1</td>\n",
              "      <td>0</td>\n",
              "      <td>4</td>\n",
              "      <td>3</td>\n",
              "      <td>2</td>\n",
              "      <td>0</td>\n",
              "      <td>3</td>\n",
              "      <td>6</td>\n",
              "      <td>12.333333</td>\n",
              "      <td>1.0</td>\n",
              "    </tr>\n",
              "    <tr>\n",
              "      <th>3</th>\n",
              "      <td>0</td>\n",
              "      <td>0</td>\n",
              "      <td>15</td>\n",
              "      <td>1</td>\n",
              "      <td>0</td>\n",
              "      <td>1</td>\n",
              "      <td>1</td>\n",
              "      <td>3</td>\n",
              "      <td>1</td>\n",
              "      <td>1</td>\n",
              "      <td>1</td>\n",
              "      <td>3</td>\n",
              "      <td>0</td>\n",
              "      <td>1</td>\n",
              "      <td>0</td>\n",
              "      <td>1</td>\n",
              "      <td>1</td>\n",
              "      <td>1</td>\n",
              "      <td>1</td>\n",
              "      <td>1</td>\n",
              "      <td>3</td>\n",
              "      <td>2</td>\n",
              "      <td>2</td>\n",
              "      <td>0</td>\n",
              "      <td>5</td>\n",
              "      <td>0</td>\n",
              "      <td>14.000000</td>\n",
              "      <td>3.0</td>\n",
              "    </tr>\n",
              "    <tr>\n",
              "      <th>4</th>\n",
              "      <td>0</td>\n",
              "      <td>0</td>\n",
              "      <td>16</td>\n",
              "      <td>1</td>\n",
              "      <td>0</td>\n",
              "      <td>1</td>\n",
              "      <td>2</td>\n",
              "      <td>2</td>\n",
              "      <td>1</td>\n",
              "      <td>0</td>\n",
              "      <td>1</td>\n",
              "      <td>2</td>\n",
              "      <td>0</td>\n",
              "      <td>1</td>\n",
              "      <td>0</td>\n",
              "      <td>0</td>\n",
              "      <td>1</td>\n",
              "      <td>1</td>\n",
              "      <td>0</td>\n",
              "      <td>0</td>\n",
              "      <td>4</td>\n",
              "      <td>3</td>\n",
              "      <td>2</td>\n",
              "      <td>0</td>\n",
              "      <td>5</td>\n",
              "      <td>0</td>\n",
              "      <td>12.333333</td>\n",
              "      <td>3.0</td>\n",
              "    </tr>\n",
              "  </tbody>\n",
              "</table>\n",
              "</div>"
            ],
            "text/plain": [
              "   school  sex  age  address  famsize  ...  Dalc  health  absences    average  Pedu\n",
              "0       0    0   18        1        0  ...     0       3         4   7.333333   4.0\n",
              "1       0    0   17        1        0  ...     0       3         2  10.333333   1.0\n",
              "2       0    0   15        1        1  ...     0       3         6  12.333333   1.0\n",
              "3       0    0   15        1        0  ...     0       5         0  14.000000   3.0\n",
              "4       0    0   16        1        0  ...     0       5         0  12.333333   3.0\n",
              "\n",
              "[5 rows x 28 columns]"
            ]
          },
          "metadata": {
            "tags": []
          },
          "execution_count": 183
        }
      ]
    },
    {
      "cell_type": "markdown",
      "metadata": {
        "id": "FKb7-FsMFvjC"
      },
      "source": [
        "## Modelos"
      ]
    },
    {
      "cell_type": "markdown",
      "metadata": {
        "id": "ustQHuiW7wf4"
      },
      "source": [
        "Função criada para manipular o retorno da função classification_report(), formatando para uma saída mais legível.\r\n"
      ]
    },
    {
      "cell_type": "code",
      "metadata": {
        "id": "7zZfYE5L-nrb"
      },
      "source": [
        "def print_report(report):\n",
        "  df = pd.DataFrame(\n",
        "      [\n",
        "       [f\"{metric:.3f}\" for _, metric in v.items()] for k, v in report.items() if k in [\"0\", \"1\", \"macro avg\", \"weighted avg\"]\n",
        "      ],\n",
        "      columns=[\"precision\", \"recall\", \"f1-score\", \"support\"], \n",
        "      index=[k for k, _ in report.items() if k in [\"0\", \"1\", \"macro avg\", \"weighted avg\"]]\n",
        "  )\n",
        "  acuracia = report[\"accuracy\"]\n",
        "  \n",
        "  return df, acuracia"
      ],
      "execution_count": null,
      "outputs": []
    },
    {
      "cell_type": "markdown",
      "metadata": {
        "id": "exiYFBvdfvR8"
      },
      "source": [
        "Criamos em X, uma lista de listas, que contêm todos os valores da tabela, com exceção da coluna `Dalc`. Já em Y armazenamos os respectivos valores do atributo `Dalc` de todos os estudantes.\n",
        "\n",
        "Dividimos os dados com _holdout_ estratificado (ou seja, respeitando a proporção de cada classe): 90% da base servirá para treino e 10% para teste."
      ]
    },
    {
      "cell_type": "code",
      "metadata": {
        "id": "2Y8bUrvjabu9"
      },
      "source": [
        "X,Y = student_port.drop(columns=[target]).values, student_port[target].values\n",
        "dados_treino, dados_teste, classe_treino, classe_teste = train_test_split(X, Y,\n",
        "                                            test_size = 0.1,\n",
        "                                            random_state=42,\n",
        "                                            stratify=Y)"
      ],
      "execution_count": null,
      "outputs": []
    },
    {
      "cell_type": "markdown",
      "metadata": {
        "id": "1QhifYMP253I"
      },
      "source": [
        "### Árvore de decisão"
      ]
    },
    {
      "cell_type": "markdown",
      "metadata": {
        "id": "fPpgrRGhvEsK"
      },
      "source": [
        "Aqui utilizamos a árvore de decisão pra classificação `DecisionTreeClassifier` com o parâmetro `class_weight`, pois as classes não são balanceadas na base de dados"
      ]
    },
    {
      "cell_type": "code",
      "metadata": {
        "colab": {
          "base_uri": "https://localhost:8080/",
          "height": 283
        },
        "id": "bdz5_0dhsOW3",
        "outputId": "ab52fcdb-6ed2-433d-f8c0-c78e3a0c8cfe"
      },
      "source": [
        "dtc = DecisionTreeClassifier(class_weight=\"balanced\")\n",
        "dtc.fit(dados_treino, classe_treino)\n",
        "classe_pred = dtc.predict(dados_teste)\n",
        "cm = plot_confusion_matrix(dtc, dados_teste, classe_teste, cmap=plt.cm.Blues, \n",
        "                               display_labels=encoders[target].classes_)\n",
        "plt.show()"
      ],
      "execution_count": null,
      "outputs": [
        {
          "output_type": "display_data",
          "data": {
            "image/png": "[encoded data removed]",
            "text/plain": [
              "<Figure size 432x288 with 2 Axes>"
            ]
          },
          "metadata": {
            "tags": [],
            "needs_background": "light"
          }
        }
      ]
    },
    {
      "cell_type": "code",
      "metadata": {
        "colab": {
          "base_uri": "https://localhost:8080/",
          "height": 193
        },
        "id": "FpNU4oPZuAH0",
        "outputId": "86c83159-09b0-493a-d649-c8578323ae92"
      },
      "source": [
        "r_dtc, a = print_report(classification_report(classe_teste, classe_pred, output_dict=True))\n",
        "print(f'Acurácia {a}')\n",
        "r_dtc"
      ],
      "execution_count": null,
      "outputs": [
        {
          "output_type": "stream",
          "text": [
            "Acurácia 0.8\n"
          ],
          "name": "stdout"
        },
        {
          "output_type": "execute_result",
          "data": {
            "text/html": [
              "<div>\n",
              "<style scoped>\n",
              "    .dataframe tbody tr th:only-of-type {\n",
              "        vertical-align: middle;\n",
              "    }\n",
              "\n",
              "    .dataframe tbody tr th {\n",
              "        vertical-align: top;\n",
              "    }\n",
              "\n",
              "    .dataframe thead th {\n",
              "        text-align: right;\n",
              "    }\n",
              "</style>\n",
              "<table border=\"1\" class=\"dataframe\">\n",
              "  <thead>\n",
              "    <tr style=\"text-align: right;\">\n",
              "      <th></th>\n",
              "      <th>precision</th>\n",
              "      <th>recall</th>\n",
              "      <th>f1-score</th>\n",
              "      <th>support</th>\n",
              "    </tr>\n",
              "  </thead>\n",
              "  <tbody>\n",
              "    <tr>\n",
              "      <th>0</th>\n",
              "      <td>0.893</td>\n",
              "      <td>0.877</td>\n",
              "      <td>0.885</td>\n",
              "      <td>57.000</td>\n",
              "    </tr>\n",
              "    <tr>\n",
              "      <th>1</th>\n",
              "      <td>0.222</td>\n",
              "      <td>0.250</td>\n",
              "      <td>0.235</td>\n",
              "      <td>8.000</td>\n",
              "    </tr>\n",
              "    <tr>\n",
              "      <th>macro avg</th>\n",
              "      <td>0.558</td>\n",
              "      <td>0.564</td>\n",
              "      <td>0.560</td>\n",
              "      <td>65.000</td>\n",
              "    </tr>\n",
              "    <tr>\n",
              "      <th>weighted avg</th>\n",
              "      <td>0.810</td>\n",
              "      <td>0.800</td>\n",
              "      <td>0.805</td>\n",
              "      <td>65.000</td>\n",
              "    </tr>\n",
              "  </tbody>\n",
              "</table>\n",
              "</div>"
            ],
            "text/plain": [
              "             precision recall f1-score support\n",
              "0                0.893  0.877    0.885  57.000\n",
              "1                0.222  0.250    0.235   8.000\n",
              "macro avg        0.558  0.564    0.560  65.000\n",
              "weighted avg     0.810  0.800    0.805  65.000"
            ]
          },
          "metadata": {
            "tags": []
          },
          "execution_count": 187
        }
      ]
    },
    {
      "cell_type": "markdown",
      "metadata": {
        "id": "UCKbMSYh3yWo"
      },
      "source": [
        "### Naive Bayes\n",
        "\n",
        "Aqui utilizamos o Complement Naive Bayes, que é usado para classes não-balanceadas."
      ]
    },
    {
      "cell_type": "markdown",
      "metadata": {
        "id": "VeRZh4DcYxNk"
      },
      "source": [
        "Declaramos `gnb` como nosso objeto `ComplementNB` (Complement Naive Bayes), treinamos o modelo com o método .fit da classe `ComplementNB` e predizemos os `dados_teste` e a partir dele, geramos a matriz de confusão e o report, para analisar a acurácia e as demais métricas."
      ]
    },
    {
      "cell_type": "code",
      "metadata": {
        "colab": {
          "base_uri": "https://localhost:8080/",
          "height": 455
        },
        "id": "b48ph3HgXqFQ",
        "outputId": "a90574f4-859f-4879-d912-9e63f507bc1d"
      },
      "source": [
        "gnb = ComplementNB()\r\n",
        "classe_pred = gnb.fit(dados_treino, classe_treino).predict(dados_teste)\r\n",
        "\r\n",
        "plot_confusion_matrix(gnb, dados_teste, classe_teste, cmap=plt.cm.Blues, \r\n",
        "                               display_labels=encoders[target].classes_)\r\n",
        "plt.show()\r\n",
        "report = classification_report(classe_teste, classe_pred, output_dict=True)\r\n",
        "r_nb, acuracia = print_report(report)\r\n",
        "print(f'Acurácia: {acuracia}')\r\n",
        "r_nb"
      ],
      "execution_count": null,
      "outputs": [
        {
          "output_type": "display_data",
          "data": {
            "image/png": "[encoded data removed]",
            "text/plain": [
              "<Figure size 432x288 with 2 Axes>"
            ]
          },
          "metadata": {
            "tags": [],
            "needs_background": "light"
          }
        },
        {
          "output_type": "stream",
          "text": [
            "Acurácia: 0.7846153846153846\n"
          ],
          "name": "stdout"
        },
        {
          "output_type": "execute_result",
          "data": {
            "text/html": [
              "<div>\n",
              "<style scoped>\n",
              "    .dataframe tbody tr th:only-of-type {\n",
              "        vertical-align: middle;\n",
              "    }\n",
              "\n",
              "    .dataframe tbody tr th {\n",
              "        vertical-align: top;\n",
              "    }\n",
              "\n",
              "    .dataframe thead th {\n",
              "        text-align: right;\n",
              "    }\n",
              "</style>\n",
              "<table border=\"1\" class=\"dataframe\">\n",
              "  <thead>\n",
              "    <tr style=\"text-align: right;\">\n",
              "      <th></th>\n",
              "      <th>precision</th>\n",
              "      <th>recall</th>\n",
              "      <th>f1-score</th>\n",
              "      <th>support</th>\n",
              "    </tr>\n",
              "  </thead>\n",
              "  <tbody>\n",
              "    <tr>\n",
              "      <th>0</th>\n",
              "      <td>0.978</td>\n",
              "      <td>0.772</td>\n",
              "      <td>0.863</td>\n",
              "      <td>57.000</td>\n",
              "    </tr>\n",
              "    <tr>\n",
              "      <th>1</th>\n",
              "      <td>0.350</td>\n",
              "      <td>0.875</td>\n",
              "      <td>0.500</td>\n",
              "      <td>8.000</td>\n",
              "    </tr>\n",
              "    <tr>\n",
              "      <th>macro avg</th>\n",
              "      <td>0.664</td>\n",
              "      <td>0.823</td>\n",
              "      <td>0.681</td>\n",
              "      <td>65.000</td>\n",
              "    </tr>\n",
              "    <tr>\n",
              "      <th>weighted avg</th>\n",
              "      <td>0.901</td>\n",
              "      <td>0.785</td>\n",
              "      <td>0.818</td>\n",
              "      <td>65.000</td>\n",
              "    </tr>\n",
              "  </tbody>\n",
              "</table>\n",
              "</div>"
            ],
            "text/plain": [
              "             precision recall f1-score support\n",
              "0                0.978  0.772    0.863  57.000\n",
              "1                0.350  0.875    0.500   8.000\n",
              "macro avg        0.664  0.823    0.681  65.000\n",
              "weighted avg     0.901  0.785    0.818  65.000"
            ]
          },
          "metadata": {
            "tags": []
          },
          "execution_count": 188
        }
      ]
    },
    {
      "cell_type": "markdown",
      "metadata": {
        "id": "v268ZZ1UCKJZ"
      },
      "source": [
        "###SVM"
      ]
    },
    {
      "cell_type": "markdown",
      "metadata": {
        "id": "EFvFuBEpcTDz"
      },
      "source": [
        "Para o SVM, utilizaremos o mesmo `X`, `Y` definidos acima e com isso, a mesma separação de `dados_treino`, `dados_teste`, `classe_treino` e `classe_teste`"
      ]
    },
    {
      "cell_type": "markdown",
      "metadata": {
        "id": "YrAFqJDJctmp"
      },
      "source": [
        "Começamos definindo o objeto `svc` (C-Support Vector Classification) e o utilizamos para gerar a `classe_pred` com o método `.fit` do mesmo. \r\n",
        "Com essas variáveis definidas, podemos plotar a matriz de confusão do modelo e gerar o report."
      ]
    },
    {
      "cell_type": "code",
      "metadata": {
        "id": "Cn8U3WXGCNvI",
        "colab": {
          "base_uri": "https://localhost:8080/",
          "height": 455
        },
        "outputId": "7ab4ba50-bc4c-4eaf-be0b-13e11ef6f29a"
      },
      "source": [
        "svc = SVC(class_weight=\"balanced\", random_state=42)\n",
        "classe_pred = svc.fit(dados_treino, classe_treino).predict(dados_teste)\n",
        "\n",
        "plot_confusion_matrix(svc, dados_teste, classe_teste, cmap=plt.cm.Blues, \n",
        "                               display_labels=encoders[target].classes_)\n",
        "plt.show()\n",
        "report = classification_report(classe_teste, classe_pred, output_dict=True)\n",
        "r_svc, acuracia = print_report(report)\n",
        "print(f'Acurácia: {acuracia}')\n",
        "r_svc"
      ],
      "execution_count": null,
      "outputs": [
        {
          "output_type": "display_data",
          "data": {
            "image/png": "[encoded data removed]",
            "text/plain": [
              "<Figure size 432x288 with 2 Axes>"
            ]
          },
          "metadata": {
            "tags": [],
            "needs_background": "light"
          }
        },
        {
          "output_type": "stream",
          "text": [
            "Acurácia: 0.7538461538461538\n"
          ],
          "name": "stdout"
        },
        {
          "output_type": "execute_result",
          "data": {
            "text/html": [
              "<div>\n",
              "<style scoped>\n",
              "    .dataframe tbody tr th:only-of-type {\n",
              "        vertical-align: middle;\n",
              "    }\n",
              "\n",
              "    .dataframe tbody tr th {\n",
              "        vertical-align: top;\n",
              "    }\n",
              "\n",
              "    .dataframe thead th {\n",
              "        text-align: right;\n",
              "    }\n",
              "</style>\n",
              "<table border=\"1\" class=\"dataframe\">\n",
              "  <thead>\n",
              "    <tr style=\"text-align: right;\">\n",
              "      <th></th>\n",
              "      <th>precision</th>\n",
              "      <th>recall</th>\n",
              "      <th>f1-score</th>\n",
              "      <th>support</th>\n",
              "    </tr>\n",
              "  </thead>\n",
              "  <tbody>\n",
              "    <tr>\n",
              "      <th>0</th>\n",
              "      <td>0.936</td>\n",
              "      <td>0.772</td>\n",
              "      <td>0.846</td>\n",
              "      <td>57.000</td>\n",
              "    </tr>\n",
              "    <tr>\n",
              "      <th>1</th>\n",
              "      <td>0.278</td>\n",
              "      <td>0.625</td>\n",
              "      <td>0.385</td>\n",
              "      <td>8.000</td>\n",
              "    </tr>\n",
              "    <tr>\n",
              "      <th>macro avg</th>\n",
              "      <td>0.607</td>\n",
              "      <td>0.698</td>\n",
              "      <td>0.615</td>\n",
              "      <td>65.000</td>\n",
              "    </tr>\n",
              "    <tr>\n",
              "      <th>weighted avg</th>\n",
              "      <td>0.855</td>\n",
              "      <td>0.754</td>\n",
              "      <td>0.789</td>\n",
              "      <td>65.000</td>\n",
              "    </tr>\n",
              "  </tbody>\n",
              "</table>\n",
              "</div>"
            ],
            "text/plain": [
              "             precision recall f1-score support\n",
              "0                0.936  0.772    0.846  57.000\n",
              "1                0.278  0.625    0.385   8.000\n",
              "macro avg        0.607  0.698    0.615  65.000\n",
              "weighted avg     0.855  0.754    0.789  65.000"
            ]
          },
          "metadata": {
            "tags": []
          },
          "execution_count": 189
        }
      ]
    },
    {
      "cell_type": "markdown",
      "metadata": {
        "id": "UlX1IP5PqLs3"
      },
      "source": [
        "### Resumo"
      ]
    },
    {
      "cell_type": "code",
      "metadata": {
        "colab": {
          "base_uri": "https://localhost:8080/",
          "height": 175
        },
        "id": "7GLMZ6QpqLAE",
        "outputId": "d1f7822b-a402-4627-95b9-dbd8dc13cc43"
      },
      "source": [
        "pd.DataFrame(\n",
        "    [\n",
        "        [r[col].iloc[0] for col in ['precision', 'recall']] + [r[col].iloc[1] for col in ['precision', 'recall']] for r in [r_dtc, r_nb, r_svc]\n",
        "    ],\n",
        "    columns=[f'Não preocupante: {m}' for m in ['Precisão', 'Revocação']] + [f'Preocupante: {m}' for m in ['Precisão', 'Revocação']],\n",
        "    index=['Árvore de decisão', 'Naive-Bayes', 'SVM']\n",
        ").transpose()"
      ],
      "execution_count": null,
      "outputs": [
        {
          "output_type": "execute_result",
          "data": {
            "text/html": [
              "<div>\n",
              "<style scoped>\n",
              "    .dataframe tbody tr th:only-of-type {\n",
              "        vertical-align: middle;\n",
              "    }\n",
              "\n",
              "    .dataframe tbody tr th {\n",
              "        vertical-align: top;\n",
              "    }\n",
              "\n",
              "    .dataframe thead th {\n",
              "        text-align: right;\n",
              "    }\n",
              "</style>\n",
              "<table border=\"1\" class=\"dataframe\">\n",
              "  <thead>\n",
              "    <tr style=\"text-align: right;\">\n",
              "      <th></th>\n",
              "      <th>Árvore de decisão</th>\n",
              "      <th>Naive-Bayes</th>\n",
              "      <th>SVM</th>\n",
              "    </tr>\n",
              "  </thead>\n",
              "  <tbody>\n",
              "    <tr>\n",
              "      <th>Não preocupante: Precisão</th>\n",
              "      <td>0.893</td>\n",
              "      <td>0.978</td>\n",
              "      <td>0.936</td>\n",
              "    </tr>\n",
              "    <tr>\n",
              "      <th>Não preocupante: Revocação</th>\n",
              "      <td>0.877</td>\n",
              "      <td>0.772</td>\n",
              "      <td>0.772</td>\n",
              "    </tr>\n",
              "    <tr>\n",
              "      <th>Preocupante: Precisão</th>\n",
              "      <td>0.222</td>\n",
              "      <td>0.350</td>\n",
              "      <td>0.278</td>\n",
              "    </tr>\n",
              "    <tr>\n",
              "      <th>Preocupante: Revocação</th>\n",
              "      <td>0.250</td>\n",
              "      <td>0.875</td>\n",
              "      <td>0.625</td>\n",
              "    </tr>\n",
              "  </tbody>\n",
              "</table>\n",
              "</div>"
            ],
            "text/plain": [
              "                           Árvore de decisão Naive-Bayes    SVM\n",
              "Não preocupante: Precisão              0.893       0.978  0.936\n",
              "Não preocupante: Revocação             0.877       0.772  0.772\n",
              "Preocupante: Precisão                  0.222       0.350  0.278\n",
              "Preocupante: Revocação                 0.250       0.875  0.625"
            ]
          },
          "metadata": {
            "tags": []
          },
          "execution_count": 190
        }
      ]
    },
    {
      "cell_type": "markdown",
      "metadata": {
        "id": "66t7B39M84fA"
      },
      "source": [
        "## Oversampling e Undersampling"
      ]
    },
    {
      "cell_type": "markdown",
      "metadata": {
        "id": "3PgFv5HV1pIa"
      },
      "source": [
        "Devido ao alto nível de desbalançeamento das classe, também optamos por usar duas técnicas que visam minimizar o desbalançeamento. Utilizamos o SMOTE (Synthetic Minority Oversampling Technique) que cria novos exemplos da classe minoritária  apartir dos exemplos existentes; e o _Edited Neares Neighbour_ que retira exemplos que seriam erroneamente classificados pelos vizinhos mais próximos."
      ]
    },
    {
      "cell_type": "code",
      "metadata": {
        "id": "zFsJEw4-lxR1",
        "colab": {
          "base_uri": "https://localhost:8080/"
        },
        "outputId": "3f2a2349-9222-402c-a9f7-0a55a85cf42a"
      },
      "source": [
        "print('Original dataset shape %s' % Counter(classe_treino))\n",
        "sme = SMOTEENN(random_state=42)\n",
        "dados_treino_res, classe_treino_res = sme.fit_resample(dados_treino,classe_treino)\n",
        "print('Resampled dataset shape %s' % Counter(classe_treino_res))"
      ],
      "execution_count": null,
      "outputs": [
        {
          "output_type": "stream",
          "text": [
            "Original dataset shape Counter({0: 515, 1: 69})\n",
            "Resampled dataset shape Counter({1: 513, 0: 244})\n"
          ],
          "name": "stdout"
        }
      ]
    },
    {
      "cell_type": "markdown",
      "metadata": {
        "id": "TV9ARPmy9U8Y"
      },
      "source": [
        "Em seguida, foram testados dois dos modelos utilizados anteriormente: o Naive Bayes e o SVM."
      ]
    },
    {
      "cell_type": "code",
      "metadata": {
        "id": "4fnPvMu3dQLM",
        "colab": {
          "base_uri": "https://localhost:8080/",
          "height": 455
        },
        "outputId": "54d29ce1-497a-4cc3-ee1b-8d9dcb0ad071"
      },
      "source": [
        "gnb = ComplementNB()\n",
        "classe_pred = gnb.fit(dados_treino_res, classe_treino_res).predict(dados_teste)\n",
        "\n",
        "plot_confusion_matrix(gnb, dados_teste, classe_teste, cmap=plt.cm.Blues, \n",
        "                               display_labels=encoders[target].classes_)\n",
        "plt.show()\n",
        "report = classification_report(classe_teste, classe_pred, output_dict=True)\n",
        "r_nb_smote, acuracia = print_report(report)\n",
        "print(acuracia)\n",
        "r_nb_smote"
      ],
      "execution_count": null,
      "outputs": [
        {
          "output_type": "display_data",
          "data": {
            "image/png": "[encoded data removed]",
            "text/plain": [
              "<Figure size 432x288 with 2 Axes>"
            ]
          },
          "metadata": {
            "tags": [],
            "needs_background": "light"
          }
        },
        {
          "output_type": "stream",
          "text": [
            "0.7076923076923077\n"
          ],
          "name": "stdout"
        },
        {
          "output_type": "execute_result",
          "data": {
            "text/html": [
              "<div>\n",
              "<style scoped>\n",
              "    .dataframe tbody tr th:only-of-type {\n",
              "        vertical-align: middle;\n",
              "    }\n",
              "\n",
              "    .dataframe tbody tr th {\n",
              "        vertical-align: top;\n",
              "    }\n",
              "\n",
              "    .dataframe thead th {\n",
              "        text-align: right;\n",
              "    }\n",
              "</style>\n",
              "<table border=\"1\" class=\"dataframe\">\n",
              "  <thead>\n",
              "    <tr style=\"text-align: right;\">\n",
              "      <th></th>\n",
              "      <th>precision</th>\n",
              "      <th>recall</th>\n",
              "      <th>f1-score</th>\n",
              "      <th>support</th>\n",
              "    </tr>\n",
              "  </thead>\n",
              "  <tbody>\n",
              "    <tr>\n",
              "      <th>0</th>\n",
              "      <td>0.975</td>\n",
              "      <td>0.684</td>\n",
              "      <td>0.804</td>\n",
              "      <td>57.000</td>\n",
              "    </tr>\n",
              "    <tr>\n",
              "      <th>1</th>\n",
              "      <td>0.280</td>\n",
              "      <td>0.875</td>\n",
              "      <td>0.424</td>\n",
              "      <td>8.000</td>\n",
              "    </tr>\n",
              "    <tr>\n",
              "      <th>macro avg</th>\n",
              "      <td>0.627</td>\n",
              "      <td>0.780</td>\n",
              "      <td>0.614</td>\n",
              "      <td>65.000</td>\n",
              "    </tr>\n",
              "    <tr>\n",
              "      <th>weighted avg</th>\n",
              "      <td>0.889</td>\n",
              "      <td>0.708</td>\n",
              "      <td>0.757</td>\n",
              "      <td>65.000</td>\n",
              "    </tr>\n",
              "  </tbody>\n",
              "</table>\n",
              "</div>"
            ],
            "text/plain": [
              "             precision recall f1-score support\n",
              "0                0.975  0.684    0.804  57.000\n",
              "1                0.280  0.875    0.424   8.000\n",
              "macro avg        0.627  0.780    0.614  65.000\n",
              "weighted avg     0.889  0.708    0.757  65.000"
            ]
          },
          "metadata": {
            "tags": []
          },
          "execution_count": 192
        }
      ]
    },
    {
      "cell_type": "code",
      "metadata": {
        "colab": {
          "base_uri": "https://localhost:8080/",
          "height": 455
        },
        "id": "ces7OBdC7vVh",
        "outputId": "d38ad19c-bbc4-45eb-9db7-f0f903e13cfb"
      },
      "source": [
        "svc = SVC(class_weight=\"balanced\", random_state=42)\n",
        "classe_pred = svc.fit(dados_treino_res, classe_treino_res).predict(dados_teste)\n",
        "\n",
        "plot_confusion_matrix(svc, dados_teste, classe_teste, cmap=plt.cm.Blues, \n",
        "                               display_labels=encoders[target].classes_)\n",
        "plt.show()\n",
        "report = classification_report(classe_teste, classe_pred, output_dict=True)\n",
        "r_svc_smote, acuracia = print_report(report)\n",
        "print(f'Acurácia: {acuracia}')\n",
        "r_svc_smote"
      ],
      "execution_count": null,
      "outputs": [
        {
          "output_type": "display_data",
          "data": {
            "image/png": "[encoded data removed]",
            "text/plain": [
              "<Figure size 432x288 with 2 Axes>"
            ]
          },
          "metadata": {
            "tags": [],
            "needs_background": "light"
          }
        },
        {
          "output_type": "stream",
          "text": [
            "Acurácia: 0.6923076923076923\n"
          ],
          "name": "stdout"
        },
        {
          "output_type": "execute_result",
          "data": {
            "text/html": [
              "<div>\n",
              "<style scoped>\n",
              "    .dataframe tbody tr th:only-of-type {\n",
              "        vertical-align: middle;\n",
              "    }\n",
              "\n",
              "    .dataframe tbody tr th {\n",
              "        vertical-align: top;\n",
              "    }\n",
              "\n",
              "    .dataframe thead th {\n",
              "        text-align: right;\n",
              "    }\n",
              "</style>\n",
              "<table border=\"1\" class=\"dataframe\">\n",
              "  <thead>\n",
              "    <tr style=\"text-align: right;\">\n",
              "      <th></th>\n",
              "      <th>precision</th>\n",
              "      <th>recall</th>\n",
              "      <th>f1-score</th>\n",
              "      <th>support</th>\n",
              "    </tr>\n",
              "  </thead>\n",
              "  <tbody>\n",
              "    <tr>\n",
              "      <th>0</th>\n",
              "      <td>0.911</td>\n",
              "      <td>0.719</td>\n",
              "      <td>0.804</td>\n",
              "      <td>57.000</td>\n",
              "    </tr>\n",
              "    <tr>\n",
              "      <th>1</th>\n",
              "      <td>0.200</td>\n",
              "      <td>0.500</td>\n",
              "      <td>0.286</td>\n",
              "      <td>8.000</td>\n",
              "    </tr>\n",
              "    <tr>\n",
              "      <th>macro avg</th>\n",
              "      <td>0.556</td>\n",
              "      <td>0.610</td>\n",
              "      <td>0.545</td>\n",
              "      <td>65.000</td>\n",
              "    </tr>\n",
              "    <tr>\n",
              "      <th>weighted avg</th>\n",
              "      <td>0.824</td>\n",
              "      <td>0.692</td>\n",
              "      <td>0.740</td>\n",
              "      <td>65.000</td>\n",
              "    </tr>\n",
              "  </tbody>\n",
              "</table>\n",
              "</div>"
            ],
            "text/plain": [
              "             precision recall f1-score support\n",
              "0                0.911  0.719    0.804  57.000\n",
              "1                0.200  0.500    0.286   8.000\n",
              "macro avg        0.556  0.610    0.545  65.000\n",
              "weighted avg     0.824  0.692    0.740  65.000"
            ]
          },
          "metadata": {
            "tags": []
          },
          "execution_count": 193
        }
      ]
    },
    {
      "cell_type": "markdown",
      "metadata": {
        "id": "rUwiJSptxZ1N"
      },
      "source": [
        "### Resumo"
      ]
    },
    {
      "cell_type": "code",
      "metadata": {
        "colab": {
          "base_uri": "https://localhost:8080/",
          "height": 175
        },
        "id": "I0_wIrgpwv1c",
        "outputId": "5a2bfefd-3f87-4009-9c37-18e599c512eb"
      },
      "source": [
        "pd.DataFrame(\n",
        "    [\n",
        "        [r[col].iloc[0] for col in ['precision', 'recall']] + [r[col].iloc[1] for col in ['precision', 'recall']] for r in [r_nb_smote, r_svc_smote]\n",
        "    ],\n",
        "    columns=[f'Não preocupante: {m}' for m in ['Precisão', 'Revocação']] + [f'Preocupante: {m}' for m in ['Precisão', 'Revocação']],\n",
        "    index=['Naive-Bayes', 'SVM']\n",
        ").transpose()"
      ],
      "execution_count": null,
      "outputs": [
        {
          "output_type": "execute_result",
          "data": {
            "text/html": [
              "<div>\n",
              "<style scoped>\n",
              "    .dataframe tbody tr th:only-of-type {\n",
              "        vertical-align: middle;\n",
              "    }\n",
              "\n",
              "    .dataframe tbody tr th {\n",
              "        vertical-align: top;\n",
              "    }\n",
              "\n",
              "    .dataframe thead th {\n",
              "        text-align: right;\n",
              "    }\n",
              "</style>\n",
              "<table border=\"1\" class=\"dataframe\">\n",
              "  <thead>\n",
              "    <tr style=\"text-align: right;\">\n",
              "      <th></th>\n",
              "      <th>Naive-Bayes</th>\n",
              "      <th>SVM</th>\n",
              "    </tr>\n",
              "  </thead>\n",
              "  <tbody>\n",
              "    <tr>\n",
              "      <th>Não preocupante: Precisão</th>\n",
              "      <td>0.975</td>\n",
              "      <td>0.911</td>\n",
              "    </tr>\n",
              "    <tr>\n",
              "      <th>Não preocupante: Revocação</th>\n",
              "      <td>0.684</td>\n",
              "      <td>0.719</td>\n",
              "    </tr>\n",
              "    <tr>\n",
              "      <th>Preocupante: Precisão</th>\n",
              "      <td>0.280</td>\n",
              "      <td>0.200</td>\n",
              "    </tr>\n",
              "    <tr>\n",
              "      <th>Preocupante: Revocação</th>\n",
              "      <td>0.875</td>\n",
              "      <td>0.500</td>\n",
              "    </tr>\n",
              "  </tbody>\n",
              "</table>\n",
              "</div>"
            ],
            "text/plain": [
              "                           Naive-Bayes    SVM\n",
              "Não preocupante: Precisão        0.975  0.911\n",
              "Não preocupante: Revocação       0.684  0.719\n",
              "Preocupante: Precisão            0.280  0.200\n",
              "Preocupante: Revocação           0.875  0.500"
            ]
          },
          "metadata": {
            "tags": []
          },
          "execution_count": 195
        }
      ]
    },
    {
      "cell_type": "markdown",
      "metadata": {
        "id": "sX8AX6MSxDj-"
      },
      "source": [
        "## Conclusão\n",
        "\n"
      ]
    },
    {
      "cell_type": "markdown",
      "metadata": {
        "id": "tOXA0Lktxnz2"
      },
      "source": [
        "\n",
        "*   É importante selecionar um modelo com uma revocação alta.\n",
        "*   Seria menos alarmante um cenário onde identificamos incorretamente adolescentes com a classe preocupante mas identificamos todos os alunos que realmente possuem um nível preocupante de consumo alcoólico ao longo da semana.\n",
        "* O modelo com o melhor desempenho foi o Naive Bayes, com uma revocação de 0.875 e uma acurácia de aproximadamente 0.753 e a maior precisão para a classe \"não preocupante\".\n",
        "* No geral todos os modelos não obtiveram uma precisão alta para a classe \"preocupante\". Isso se deve ao fato do aspecto desbalanceado do conjunto de dados no que se refere ao atributo alvo Dalc.\n",
        "* As tentativas de combinar métodos de Undesampling e Oversampling também não trouxeram diferenças consideráveis, apesar de serem técnicas para tratar datasets desbalanceados.\n",
        "* Talvez a existência de um dataset com mais exemplos reais da classe \"não preocupante\" e um total maior de exemplos seriam fatores que influenciariam positivamente na obtenção de um classificador mais eficiente.\n",
        "* A escolha de Dalc como atributo-alvo também influenicou nos resultados dos modelos. Caso fossem utilizados outros atributos como atributo-alvo, poderia haver um melhor balanceamento entre as classes.\n",
        "\n",
        "\n",
        "\n"
      ]
    }
  ]
}